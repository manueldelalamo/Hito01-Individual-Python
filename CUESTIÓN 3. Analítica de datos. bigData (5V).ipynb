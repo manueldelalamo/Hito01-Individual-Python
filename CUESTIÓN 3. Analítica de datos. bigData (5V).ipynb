{
 "cells": [
  {
   "cell_type": "markdown",
   "id": "f64a5799",
   "metadata": {},
   "source": [
    "# CUESTIÓN 3. Analítica de datos. bigData (5V)"
   ]
  },
  {
   "cell_type": "code",
   "execution_count": 3,
   "id": "13c612f5",
   "metadata": {},
   "outputs": [
    {
     "ename": "ModuleNotFoundError",
     "evalue": "No module named 'geoplotlib'",
     "output_type": "error",
     "traceback": [
      "\u001b[1;31m---------------------------------------------------------------------------\u001b[0m",
      "\u001b[1;31mModuleNotFoundError\u001b[0m                       Traceback (most recent call last)",
      "\u001b[1;32m~\\AppData\\Local\\Temp/ipykernel_15776/2481863386.py\u001b[0m in \u001b[0;36m<module>\u001b[1;34m\u001b[0m\n\u001b[1;32m----> 1\u001b[1;33m \u001b[1;32mimport\u001b[0m \u001b[0mgeoplotlib\u001b[0m\u001b[1;33m\u001b[0m\u001b[1;33m\u001b[0m\u001b[0m\n\u001b[0m\u001b[0;32m      2\u001b[0m \u001b[1;32mfrom\u001b[0m \u001b[0mgeoplotlib\u001b[0m\u001b[1;33m.\u001b[0m\u001b[0mutils\u001b[0m \u001b[1;32mimport\u001b[0m \u001b[0mread_csv\u001b[0m\u001b[1;33m\u001b[0m\u001b[1;33m\u001b[0m\u001b[0m\n\u001b[0;32m      3\u001b[0m \u001b[1;33m\u001b[0m\u001b[0m\n\u001b[0;32m      4\u001b[0m \u001b[0mdata\u001b[0m \u001b[1;33m=\u001b[0m \u001b[0mread_csv\u001b[0m\u001b[1;33m(\u001b[0m\u001b[1;34m\"flights.csv\"\u001b[0m\u001b[1;33m)\u001b[0m \u001b[1;31m#replace path with your file path\u001b[0m\u001b[1;33m\u001b[0m\u001b[1;33m\u001b[0m\u001b[0m\n\u001b[0;32m      5\u001b[0m geoplotlib.graph(data, src_lat='lat_departure', src_lon='lon_departure',\n",
      "\u001b[1;31mModuleNotFoundError\u001b[0m: No module named 'geoplotlib'"
     ]
    }
   ],
   "source": [
    "import geoplotlib\n",
    "from geoplotlib.utils import read_csv\n",
    "\n",
    "data = read_csv(\"flights.csv\") #replace path with your file path\n",
    "geoplotlib.graph(data, src_lat='lat_departure', src_lon='lon_departure',\n",
    "                 dest_lat='lat_arrival', dest_lon='lon_arrival', color='hot_r',\n",
    "                 alpha=16, linewidth=2)\n",
    "geoplotlib.show()"
   ]
  },
  {
   "cell_type": "code",
   "execution_count": null,
   "id": "b97fcd8c",
   "metadata": {},
   "outputs": [],
   "source": []
  }
 ],
 "metadata": {
  "kernelspec": {
   "display_name": "Python 3 (ipykernel)",
   "language": "python",
   "name": "python3"
  },
  "language_info": {
   "codemirror_mode": {
    "name": "ipython",
    "version": 3
   },
   "file_extension": ".py",
   "mimetype": "text/x-python",
   "name": "python",
   "nbconvert_exporter": "python",
   "pygments_lexer": "ipython3",
   "version": "3.9.7"
  }
 },
 "nbformat": 4,
 "nbformat_minor": 5
}
